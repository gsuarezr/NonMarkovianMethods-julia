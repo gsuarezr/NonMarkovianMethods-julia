{
 "cells": [
  {
   "cell_type": "code",
   "execution_count": 5,
   "metadata": {},
   "outputs": [
    {
     "data": {
      "text/plain": [
       "decay (generic function with 1 method)"
      ]
     },
     "metadata": {},
     "output_type": "display_data"
    }
   ],
   "source": [
    "include(\"cumulant.jl\")"
   ]
  },
  {
   "cell_type": "code",
   "execution_count": 6,
   "metadata": {},
   "outputs": [],
   "source": [
    "bath=overdampedBath(1.0,0.05,5.0);"
   ]
  },
  {
   "cell_type": "code",
   "execution_count": 7,
   "metadata": {},
   "outputs": [
    {
     "data": {
      "text/plain": [
       "0.019230769230769232"
      ]
     },
     "metadata": {},
     "output_type": "display_data"
    }
   ],
   "source": [
    "spectral_density(bath,1)"
   ]
  },
  {
   "cell_type": "code",
   "execution_count": 8,
   "metadata": {},
   "outputs": [],
   "source": [
    "x=LinRange(0,10,1000);"
   ]
  },
  {
   "cell_type": "code",
   "execution_count": 10,
   "metadata": {},
   "outputs": [
    {
     "name": "stdout",
     "output_type": "stream",
     "text": [
      "  0.431373 seconds (18.89 k allocations: 10.937 MiB, 3.43% gc time)\n"
     ]
    },
    {
     "data": {
      "text/plain": [
       "1000-element Vector{ComplexF64}:\n",
       "                    0.0 - 0.0im\n",
       " 0.00020229067320131277 - 1.0124742860381548e-6im\n",
       "  0.0006728950461714012 - 6.735911129470973e-6im\n",
       "  0.0013362473890907074 - 2.006528254413994e-5im\n",
       "    0.00215413533150333 - 4.313159501487642e-5im\n",
       "   0.003098836562768099 - 7.75646548780272e-5im\n",
       "   0.004152653883018949 - 0.0001247418205696109im\n",
       "   0.005300962229701718 - 0.0001857954220831793im\n",
       "   0.006530771685797982 - 0.0002616321913998972im\n",
       "   0.007832431007283265 - 0.00035305102662004683im\n",
       "                        ⋮\n",
       "   -0.10679335746373063 - 0.422515402730825im\n",
       "   -0.10880740145682652 - 0.4215908536660643im\n",
       "   -0.11081174645379478 - 0.4206448867118278im\n",
       "   -0.11280693419885117 - 0.4196804372953477im\n",
       "   -0.11479198754488046 - 0.41869467700752117im\n",
       "    -0.1167671632755573 - 0.41768941490094413im\n",
       "   -0.11873331825373387 - 0.41666843506113965im\n",
       "   -0.12068714447697373 - 0.41562090206748825im\n",
       "   -0.12263068667625694 - 0.41455487653540984im"
      ]
     },
     "metadata": {},
     "output_type": "display_data"
    }
   ],
   "source": [
    "@time decay.(1,2,bath,x) "
   ]
  },
  {
   "cell_type": "code",
   "execution_count": 9,
   "metadata": {},
   "outputs": [
    {
     "data": {
      "text/plain": [
       "9.01625304506699"
      ]
     },
     "metadata": {},
     "output_type": "display_data"
    }
   ],
   "source": [
    "3.79/0.420352 #blas #only 8x with respect to simple cython and quad, worth it?"
   ]
  },
  {
   "cell_type": "code",
   "execution_count": 11,
   "metadata": {},
   "outputs": [
    {
     "data": {
      "text/plain": [
       "6.978900996985856"
      ]
     },
     "metadata": {},
     "output_type": "display_data"
    }
   ],
   "source": [
    "3.01/0.4313 #mkl"
   ]
  },
  {
   "cell_type": "code",
   "execution_count": null,
   "metadata": {},
   "outputs": [],
   "source": []
  }
 ],
 "metadata": {
  "kernelspec": {
   "display_name": "Julia 1.10.2",
   "language": "julia",
   "name": "julia-1.10"
  },
  "language_info": {
   "file_extension": ".jl",
   "mimetype": "application/julia",
   "name": "julia",
   "version": "1.10.2"
  }
 },
 "nbformat": 4,
 "nbformat_minor": 2
}
